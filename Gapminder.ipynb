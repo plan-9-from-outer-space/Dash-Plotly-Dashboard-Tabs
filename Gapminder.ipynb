{
 "cells": [
  {
   "cell_type": "code",
   "execution_count": 1,
   "id": "141338b4",
   "metadata": {},
   "outputs": [
    {
     "data": {
      "text/html": [
       "<div>\n",
       "<style scoped>\n",
       "    .dataframe tbody tr th:only-of-type {\n",
       "        vertical-align: middle;\n",
       "    }\n",
       "\n",
       "    .dataframe tbody tr th {\n",
       "        vertical-align: top;\n",
       "    }\n",
       "\n",
       "    .dataframe thead th {\n",
       "        text-align: right;\n",
       "    }\n",
       "</style>\n",
       "<table border=\"1\" class=\"dataframe\">\n",
       "  <thead>\n",
       "    <tr style=\"text-align: right;\">\n",
       "      <th></th>\n",
       "      <th>Country</th>\n",
       "      <th>Continent</th>\n",
       "      <th>Year</th>\n",
       "      <th>Life Expectancy</th>\n",
       "      <th>Population</th>\n",
       "      <th>GDP per Capita</th>\n",
       "      <th>ISO Alpha Country Code</th>\n",
       "      <th>ISO Numeric Country Code</th>\n",
       "      <th>Centroid Longitude</th>\n",
       "      <th>Centroid Latitude</th>\n",
       "    </tr>\n",
       "  </thead>\n",
       "  <tbody>\n",
       "    <tr>\n",
       "      <th>0</th>\n",
       "      <td>Afghanistan</td>\n",
       "      <td>Asia</td>\n",
       "      <td>1952</td>\n",
       "      <td>28.801</td>\n",
       "      <td>8425333</td>\n",
       "      <td>779.445314</td>\n",
       "      <td>AFG</td>\n",
       "      <td>4</td>\n",
       "      <td>65.0</td>\n",
       "      <td>33.0</td>\n",
       "    </tr>\n",
       "    <tr>\n",
       "      <th>1</th>\n",
       "      <td>Afghanistan</td>\n",
       "      <td>Asia</td>\n",
       "      <td>1957</td>\n",
       "      <td>30.332</td>\n",
       "      <td>9240934</td>\n",
       "      <td>820.853030</td>\n",
       "      <td>AFG</td>\n",
       "      <td>4</td>\n",
       "      <td>65.0</td>\n",
       "      <td>33.0</td>\n",
       "    </tr>\n",
       "    <tr>\n",
       "      <th>2</th>\n",
       "      <td>Afghanistan</td>\n",
       "      <td>Asia</td>\n",
       "      <td>1962</td>\n",
       "      <td>31.997</td>\n",
       "      <td>10267083</td>\n",
       "      <td>853.100710</td>\n",
       "      <td>AFG</td>\n",
       "      <td>4</td>\n",
       "      <td>65.0</td>\n",
       "      <td>33.0</td>\n",
       "    </tr>\n",
       "    <tr>\n",
       "      <th>3</th>\n",
       "      <td>Afghanistan</td>\n",
       "      <td>Asia</td>\n",
       "      <td>1967</td>\n",
       "      <td>34.020</td>\n",
       "      <td>11537966</td>\n",
       "      <td>836.197138</td>\n",
       "      <td>AFG</td>\n",
       "      <td>4</td>\n",
       "      <td>65.0</td>\n",
       "      <td>33.0</td>\n",
       "    </tr>\n",
       "    <tr>\n",
       "      <th>4</th>\n",
       "      <td>Afghanistan</td>\n",
       "      <td>Asia</td>\n",
       "      <td>1972</td>\n",
       "      <td>36.088</td>\n",
       "      <td>13079460</td>\n",
       "      <td>739.981106</td>\n",
       "      <td>AFG</td>\n",
       "      <td>4</td>\n",
       "      <td>65.0</td>\n",
       "      <td>33.0</td>\n",
       "    </tr>\n",
       "  </tbody>\n",
       "</table>\n",
       "</div>"
      ],
      "text/plain": [
       "       Country Continent  Year  Life Expectancy  Population  GDP per Capita  \\\n",
       "0  Afghanistan      Asia  1952           28.801     8425333      779.445314   \n",
       "1  Afghanistan      Asia  1957           30.332     9240934      820.853030   \n",
       "2  Afghanistan      Asia  1962           31.997    10267083      853.100710   \n",
       "3  Afghanistan      Asia  1967           34.020    11537966      836.197138   \n",
       "4  Afghanistan      Asia  1972           36.088    13079460      739.981106   \n",
       "\n",
       "  ISO Alpha Country Code  ISO Numeric Country Code  Centroid Longitude  \\\n",
       "0                    AFG                         4                65.0   \n",
       "1                    AFG                         4                65.0   \n",
       "2                    AFG                         4                65.0   \n",
       "3                    AFG                         4                65.0   \n",
       "4                    AFG                         4                65.0   \n",
       "\n",
       "   Centroid Latitude  \n",
       "0               33.0  \n",
       "1               33.0  \n",
       "2               33.0  \n",
       "3               33.0  \n",
       "4               33.0  "
      ]
     },
     "execution_count": 1,
     "metadata": {},
     "output_type": "execute_result"
    }
   ],
   "source": [
    "from plotly.data import gapminder\n",
    "\n",
    "df = gapminder(datetimes=True, centroids=True, pretty_names=True)\n",
    "\n",
    "df[\"Year\"] = df.Year.dt.year\n",
    "\n",
    "df.head()"
   ]
  },
  {
   "cell_type": "code",
   "execution_count": 3,
   "id": "7b860646-9014-45b1-b7c0-b1e99c223c35",
   "metadata": {},
   "outputs": [
    {
     "data": {
      "text/plain": [
       "(1704, 10)"
      ]
     },
     "execution_count": 3,
     "metadata": {},
     "output_type": "execute_result"
    }
   ],
   "source": [
    "df.shape"
   ]
  },
  {
   "cell_type": "code",
   "execution_count": 5,
   "id": "2eef0cb5-27ab-44cc-9684-23dcfcbe90fa",
   "metadata": {},
   "outputs": [
    {
     "name": "stdout",
     "output_type": "stream",
     "text": [
      "Number of NaN values: 0\n",
      "Number of null values: 0\n"
     ]
    }
   ],
   "source": [
    "nan_count = df.isna().sum().sum()\n",
    "print('Number of NaN values:', nan_count)\n",
    "null_count = df.isnull().sum().sum()\n",
    "print('Number of null values:', null_count)"
   ]
  },
  {
   "cell_type": "code",
   "execution_count": 10,
   "id": "17b2b35a-3daf-48db-a108-3a0782b6357d",
   "metadata": {},
   "outputs": [
    {
     "data": {
      "text/plain": [
       "(array(['Asia', 'Europe', 'Africa', 'Americas', 'Oceania'], dtype=object),\n",
       " array([1952, 1957, 1962, 1967, 1972, 1977, 1982, 1987, 1992, 1997, 2002,\n",
       "        2007]))"
      ]
     },
     "execution_count": 10,
     "metadata": {},
     "output_type": "execute_result"
    }
   ],
   "source": [
    "df.Continent.unique(), df.Year.unique()"
   ]
  },
  {
   "cell_type": "code",
   "execution_count": null,
   "id": "b4ff2498-e261-4b31-93be-0a731ddc6678",
   "metadata": {},
   "outputs": [],
   "source": []
  },
  {
   "cell_type": "code",
   "execution_count": null,
   "id": "11954a56-1264-49d9-ba16-a24b2aa04d2a",
   "metadata": {},
   "outputs": [],
   "source": []
  },
  {
   "cell_type": "code",
   "execution_count": null,
   "id": "4b500f74-0862-4fae-b640-8c29e8fecafc",
   "metadata": {},
   "outputs": [],
   "source": []
  },
  {
   "cell_type": "code",
   "execution_count": null,
   "id": "8f4584a1-189e-4c32-a4ec-ae7925e354f4",
   "metadata": {},
   "outputs": [],
   "source": []
  },
  {
   "cell_type": "code",
   "execution_count": null,
   "id": "64d8b4f5-ab95-424f-93a3-3ae877a8cfba",
   "metadata": {},
   "outputs": [],
   "source": []
  },
  {
   "cell_type": "code",
   "execution_count": null,
   "id": "52664195-2f91-4196-9f6d-3a0aa614e64b",
   "metadata": {},
   "outputs": [],
   "source": []
  }
 ],
 "metadata": {
  "kernelspec": {
   "display_name": "Python 3 (ipykernel)",
   "language": "python",
   "name": "python3"
  },
  "language_info": {
   "codemirror_mode": {
    "name": "ipython",
    "version": 3
   },
   "file_extension": ".py",
   "mimetype": "text/x-python",
   "name": "python",
   "nbconvert_exporter": "python",
   "pygments_lexer": "ipython3",
   "version": "3.11.7"
  }
 },
 "nbformat": 4,
 "nbformat_minor": 5
}
